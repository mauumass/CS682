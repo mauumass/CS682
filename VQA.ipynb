{
 "cells": [
  {
   "cell_type": "code",
   "execution_count": 51,
   "metadata": {
    "collapsed": true,
    "scrolled": false
   },
   "outputs": [],
   "source": [
    "import h5py\n",
    "import json\n",
    "import numpy as np"
   ]
  },
  {
   "cell_type": "code",
   "execution_count": 52,
   "metadata": {
    "collapsed": true
   },
   "outputs": [],
   "source": [
    "data = 'data/'\n",
    "img_feat = data + 'VQA_image_features.h5'\n",
    "img_ids = data + 'image_ids_vqa.json'\n",
    "map_features_to_id = data + 'VQA_img_features2id.json'\n",
    "img_info = data + 'imgid2imginfo.json'\n",
    "\n",
    "questions_train = data + 'vqa_questions_train.json'\n",
    "questions_validation = data + 'vqa_questions_valid.json'\n",
    "questions_test = data + 'vqa_questions_test.json'\n",
    "\n",
    "annotations_train = data + 'vqa_annotations_train.json'\n",
    "annotations_validation = data + 'vqa_annotations_valid.json'\n",
    "annotations_test = data + 'vqa_annotations_test.json'"
   ]
  },
  {
   "cell_type": "code",
   "execution_count": 53,
   "metadata": {
    "collapsed": true
   },
   "outputs": [],
   "source": [
    "def read_images():\n",
    "    # load computed VQA image features from hdf5 file\n",
    "    image_features = np.asarray(h5py.File(img_feat, 'r')['img_features'])\n",
    "\n",
    "    # load IDs file\n",
    "    with open(img_ids, 'r') as file:\n",
    "        image_ids = json.load(file)['image_ids']\n",
    "\n",
    "    # load feature mapping file\n",
    "    with open(map_features_to_id, 'r') as file:\n",
    "        feature_mapping = json.load(file)['VQA_imgid2id']\n",
    "\n",
    "    # load info file\n",
    "    with open(img_info, 'r') as file:\n",
    "        image_info = json.load(file)\n",
    "\n",
    "    return image_ids, image_features, feature_mapping, image_info"
   ]
  },
  {
   "cell_type": "code",
   "execution_count": 54,
   "metadata": {
    "collapsed": true
   },
   "outputs": [],
   "source": [
    "def read_text():\n",
    "    with open(questions_train, 'r') as file:\n",
    "        q_train = [[x['question'], x['image_id']] for x in json.load(file)['questions']]\n",
    "    with open(questions_validation, 'r') as file:\n",
    "        q_validation = [[x['question'], x['image_id']] for x in json.load(file)['questions']]\n",
    "    with open(questions_test, 'r') as file:\n",
    "        q_test = [[x['question'], x['image_id']] for x in json.load(file)['questions']]\n",
    "        \n",
    "    with open(annotations_train, 'r') as file:\n",
    "        a_train = [x['multiple_choice_answer'] for x in json.load(file)['annotations']]\n",
    "    with open(annotations_validation, 'r') as file:\n",
    "        a_validation = [x['multiple_choice_answer'] for x in json.load(file)['annotations']]\n",
    "    with open(annotations_test, 'r') as file:\n",
    "        a_test = [x['multiple_choice_answer']  for x in json.load(file)['annotations']]\n",
    "    \n",
    "    return q_train, q_validation, q_test, a_train, a_validation, a_test"
   ]
  },
  {
   "cell_type": "code",
   "execution_count": 55,
   "metadata": {},
   "outputs": [],
   "source": [
    "## Display image from URL\n",
    "\n",
    "import os\n",
    "from PIL import Image\n",
    "from urllib import request\n",
    "\n",
    "def show_image(imgid2info, id):\n",
    "    img_name = 'temp-image.jpg'\n",
    "    request.urlretrieve(imgid2info[str(id)]['flickr_url'], img_name)\n",
    "\n",
    "    img = Image.open(img_name)\n",
    "    img.show()\n",
    "\n",
    "    os.remove(img_name)\n",
    "    img.close()\n",
    "    \n",
    "#show_image(image_info, 111756)"
   ]
  },
  {
   "cell_type": "code",
   "execution_count": 56,
   "metadata": {},
   "outputs": [
    {
     "name": "stdout",
     "output_type": "stream",
     "text": [
      "cuda\n"
     ]
    }
   ],
   "source": [
    "import torch\n",
    "import torch.autograd as autograd\n",
    "import torch.nn as nn\n",
    "import torch.nn.functional as F\n",
    "import torch.optim as optim\n",
    "import numpy as np\n",
    "import random\n",
    "\n",
    "USE_GPU = True\n",
    "\n",
    "if USE_GPU and torch.cuda.is_available():\n",
    "    device = torch.device('cuda')\n",
    "else:\n",
    "    device = torch.device('cpu')\n",
    "    \n",
    "print(device)"
   ]
  },
  {
   "cell_type": "code",
   "execution_count": 57,
   "metadata": {
    "collapsed": true
   },
   "outputs": [],
   "source": [
    "def image_id_to_features(image_id):\n",
    "    feat = feature_mapping[str(image_id)]\n",
    "    return image_features[feat]"
   ]
  },
  {
   "cell_type": "code",
   "execution_count": 58,
   "metadata": {
    "collapsed": true
   },
   "outputs": [],
   "source": [
    "q_train, q_validation, q_test, a_train, a_validation, a_test = read_text()"
   ]
  },
  {
   "cell_type": "code",
   "execution_count": 59,
   "metadata": {
    "collapsed": true
   },
   "outputs": [],
   "source": [
    "image_ids, image_features, feature_mapping, image_info = read_images()"
   ]
  },
  {
   "cell_type": "code",
   "execution_count": 60,
   "metadata": {
    "collapsed": true
   },
   "outputs": [],
   "source": [
    "## TO DO \n",
    "# Increase size of datasets\n",
    "\n",
    "train_len = int(0.1* len(q_train)) \n",
    "validation_len = int(0.1* len(q_validation))\n",
    "test_len =  int(0.1* len(q_test))"
   ]
  },
  {
   "cell_type": "code",
   "execution_count": 61,
   "metadata": {
    "collapsed": true
   },
   "outputs": [],
   "source": [
    "import string\n",
    "import nltk\n",
    "from nltk.corpus import stopwords\n",
    "\n",
    "sw = set(stopwords.words('english'))\n",
    "\n",
    "def organize_data():\n",
    "    # determine train data\n",
    "    train_text = []\n",
    "    train_images = []\n",
    "    for i in range(train_len): \n",
    "        split_words = q_train[i][0].split()\n",
    "        lower_words = [w.lower() for w in split_words]\n",
    "        no_punct_words = [w.strip(string.punctuation) for w in lower_words]\n",
    "       \n",
    "        train_text.append((no_punct_words, a_train[i]))\n",
    "        train_images.append(image_id_to_features(q_train[i][1]))\n",
    "\n",
    "    # determine validation data\n",
    "    validation_text = []\n",
    "    validation_images = []\n",
    "    for i in range(validation_len): \n",
    "        split_words = q_validation[i][0].split()\n",
    "        lower_words = [w.lower() for w in split_words]\n",
    "        no_punct_words = [w.strip(string.punctuation) for w in lower_words]\n",
    "        \n",
    "        validation_text.append((no_punct_words, a_validation[i]))\n",
    "        validation_images.append(image_id_to_features(q_validation[i][1]))\n",
    "\n",
    "    # determine test data\n",
    "    test_text = []\n",
    "    test_images = []\n",
    "    for i in range(test_len): \n",
    "        split_words = q_test[i][0].split()\n",
    "        lower_words = [w.lower() for w in split_words]\n",
    "        no_punct_words = [w.strip(string.punctuation) for w in lower_words]\n",
    "        \n",
    "        test_text.append((no_punct_words, a_test[i]))\n",
    "        test_images.append(image_id_to_features(q_test[i][1]))\n",
    "        \n",
    "    return train_text, train_images, validation_text, validation_images, test_text, test_images"
   ]
  },
  {
   "cell_type": "code",
   "execution_count": 62,
   "metadata": {
    "collapsed": true
   },
   "outputs": [],
   "source": [
    "def shuffle_data(text_features, visual_features):\n",
    "    combined = [(text, visual) for text, visual in zip(text_features, visual_features)]\n",
    "    random.shuffle(combined)\n",
    "    return [text for (text, _) in combined], [visual for (_, visual) in combined]"
   ]
  },
  {
   "cell_type": "code",
   "execution_count": 63,
   "metadata": {
    "collapsed": true
   },
   "outputs": [],
   "source": [
    "from collections import defaultdict\n",
    "import operator\n",
    "\n",
    "def select_frequent_answers(train_text, train_images, maxAnswers):\n",
    "    \n",
    "    answer_fq= defaultdict(int)\n",
    "    for question, answer in train_text:\n",
    "        answer_fq[answer] += 1\n",
    "    sorted_fq = sorted(answer_fq.items(), key=operator.itemgetter(1), reverse=True)[0:maxAnswers]\n",
    "    top_answers, top_fq = zip(*sorted_fq)\n",
    "    new_train_text=[]\n",
    "    new_train_images=[]\n",
    "    \n",
    "    for (ques, ans), img in zip(train_text, train_images):\n",
    "        if ans in top_answers:\n",
    "            new_train_text.append((ques, ans))\n",
    "            new_train_images.append(img)\n",
    "\n",
    "    return new_train_text, new_train_images"
   ]
  },
  {
   "cell_type": "code",
   "execution_count": 64,
   "metadata": {
    "collapsed": true
   },
   "outputs": [],
   "source": [
    "def vocabulary():\n",
    "    question_vocab = {}\n",
    "    annotation_vocab = {}\n",
    "    annotation_vocab_lookup = []\n",
    "    question_vocab['<unk>'] = 0\n",
    "    for question, answer in train_text:\n",
    "        for word in question:\n",
    "            if word not in question_vocab:\n",
    "                question_vocab[word] = len(question_vocab)\n",
    "        #if answer in top_answers:\n",
    "        if answer not in annotation_vocab:\n",
    "            annotation_vocab[answer] = len(annotation_vocab)\n",
    "            annotation_vocab_lookup.append(answer)\n",
    "    return question_vocab, annotation_vocab, annotation_vocab_lookup"
   ]
  },
  {
   "cell_type": "code",
   "execution_count": 65,
   "metadata": {},
   "outputs": [],
   "source": [
    "og_train_text, og_train_images, validation_text, validation_images, test_text, test_images = organize_data()\n",
    "train_text, train_images = select_frequent_answers(og_train_text, og_train_images, 1000)\n",
    "question_vocab, annotation_vocab, annotation_vocab_lookup = vocabulary()"
   ]
  },
  {
   "cell_type": "code",
   "execution_count": 66,
   "metadata": {},
   "outputs": [
    {
     "name": "stdout",
     "output_type": "stream",
     "text": [
      "4676\n",
      "2407\n",
      "1000\n"
     ]
    }
   ],
   "source": [
    "n_questions = len(train_text)\n",
    "question_vocab_size = len(question_vocab) \n",
    "annotation_vocab_size = len(annotation_vocab)\n",
    "image_feature_length = len(train_images[0])\n",
    "print(n_questions)\n",
    "print(question_vocab_size)\n",
    "print(annotation_vocab_size)"
   ]
  },
  {
   "cell_type": "code",
   "execution_count": 67,
   "metadata": {},
   "outputs": [],
   "source": [
    "#print(annotation_vocab)"
   ]
  },
  {
   "cell_type": "code",
   "execution_count": 68,
   "metadata": {
    "collapsed": true
   },
   "outputs": [],
   "source": [
    "class BoWClassifier(nn.Module):  # inheriting from nn.Module!\n",
    "\n",
    "    def __init__(self, num_labels, vocab_size):\n",
    "        # calls the init function of nn.Module.  Dont get confused by syntax,\n",
    "        # just always do it in an nn.Module\n",
    "        super(BoWClassifier, self).__init__()\n",
    "\n",
    "        # Define the parameters that you will need.  In this case, we need A and b,\n",
    "        # the parameters of the affine mapping.\n",
    "        # Torch defines nn.Linear(), which provides the affine map.\n",
    "        # Make sure you understand why the input dimension is vocab_size\n",
    "        # and the output is num_labels!\n",
    "        self.linear = nn.Linear(vocab_size, num_labels)\n",
    "\n",
    "        # NOTE! The non-linearity log softmax does not have parameters! So we don't need\n",
    "        # to worry about that here\n",
    "\n",
    "    def forward(self, bow_vec):\n",
    "        # Pass the input through the linear layer,\n",
    "        # then pass that through log_softmax.\n",
    "        # Many non-linearities and other functions are in torch.nn.functional\n",
    "        return F.log_softmax(self.linear(bow_vec), dim=1)"
   ]
  },
  {
   "cell_type": "code",
   "execution_count": 69,
   "metadata": {
    "scrolled": true
   },
   "outputs": [],
   "source": [
    "def bow_image_vector(question, question_vocab, visual_features):     \n",
    "    vec = torch.zeros(len(question_vocab)).cuda()\n",
    "    for word in question:\n",
    "        if word not in question_vocab.keys():\n",
    "            word = '<unk>'\n",
    "        vec[question_vocab[word]] += 1\n",
    "    vec = torch.cat((vec, visual_features), dim=0)\n",
    "    return vec.view(1, -1)\n",
    "\n",
    "from torch.autograd import Variable\n",
    "import seq2vec\n",
    "\n",
    "num_emb = 300\n",
    "hidden_size = 1024\n",
    "#lstm = seq2vec.LSTM(list(question_vocab.keys()), num_emb, hidden_size, 1).to(device=device)\n",
    "#input_vector_size = hidden_size+image_feature_length\n",
    "input_vector_size = question_vocab_size + image_feature_length\n",
    "\n",
    "def question2invec(question):\n",
    "    zeros18 = np.zeros((1,10))\n",
    "    for idx, word in enumerate(question[:10]):\n",
    "        zeros18[0][idx] = question_vocab[word]+1\n",
    "        \n",
    "    return zeros18\n",
    "\n",
    "def convert_to_lstm_feature(text):\n",
    "    q = []\n",
    "    for question, answer in text:\n",
    "        qidx = question2invec(question)\n",
    "        q.append(qidx)\n",
    "    q = np.asarray(q)\n",
    "    qt = torch.from_numpy(q[:,0]).long().cuda()\n",
    "    output = lstm(qt)\n",
    "\n",
    "    temp = []\n",
    "    for i in range(len(text)):\n",
    "        tens = output[i].detach()\n",
    "        label = text[i][1]\n",
    "        temp.append((tens,label))\n",
    "        \n",
    "    return temp\n",
    "#temp = convert_to_lstm_feature(train_text)\n",
    "#temp = train_text\n",
    "#print(temp[0])"
   ]
  },
  {
   "cell_type": "code",
   "execution_count": 70,
   "metadata": {
    "collapsed": true
   },
   "outputs": [],
   "source": [
    "def make_target(label, annotation_vocab):\n",
    "    return torch.LongTensor([annotation_vocab[label]], device=device).cuda()\n"
   ]
  },
  {
   "cell_type": "code",
   "execution_count": 71,
   "metadata": {
    "collapsed": true
   },
   "outputs": [],
   "source": [
    "def train(num_epochs, batch_size):\n",
    "    s = True\n",
    "    for ep in range(num_epochs):\n",
    "        ep_loss = 0\n",
    "        \n",
    "        for start in range(0, len(train_text), batch_size):\n",
    "            text_batch = train_text[start:start+batch_size]\n",
    "            image_batch = train_images[start:start+batch_size]\n",
    "            in_mat = torch.zeros(batch_size, input_vector_size, device=device)\n",
    "            out_vec = torch.zeros(batch_size, dtype=torch.long, device=device)\n",
    "            #counter=1 \n",
    "            #if start % 4096 == 0:\n",
    "            #    print(start, \"/\", len(train_text))\n",
    "                \n",
    "            for i, ((instance, label), image_features) in enumerate(zip(*shuffle_data(text_batch, image_batch))):\n",
    "                visual_features = torch.from_numpy(image_features).to(device=device)\n",
    "                #bow_vec = torch.cat((instance, visual_features)).view(1,-1)\n",
    "                bow_vec = bow_image_vector(instance, question_vocab, visual_features)\n",
    "                target = make_target(label, annotation_vocab)\n",
    "                \n",
    "                in_mat[i] = bow_vec\n",
    "                out_vec[i] = target\n",
    "            \n",
    "            log_probs = bow_model(in_mat) \n",
    "\n",
    "            batch_loss = loss_function(log_probs, out_vec)\n",
    "            ep_loss += batch_loss\n",
    "            \n",
    "            optimizer.zero_grad()\n",
    "            batch_loss.backward()\n",
    "            optimizer.step()\n",
    "\n",
    "        print(ep, ep_loss)\n",
    "        \n",
    "    return bow_model"
   ]
  },
  {
   "cell_type": "code",
   "execution_count": 72,
   "metadata": {},
   "outputs": [
    {
     "data": {
      "text/plain": [
       "'\\ndef train_model():\\n    current_loss = 0\\n    losses = []\\n    \\n    for iter in range(1, num_epochs+1):\\n        print(\"Epoch\", iter, \"/\", num_epochs)\\n        counter = 1\\n        for (instance, label), image_features in zip(*shuffle_data(temp, train_images)):\\n            if counter % 1000 == 0:\\n                print(counter, \"/\", len(train_text))\\n            counter += 1\\n            bow_model.zero_grad()\\n\\n            visual_features = torch.from_numpy(image_features).cuda()\\n            #bow_vec = torch.cat((instance, visual_features)).view(1,-1)\\n            bow_vec = bow_image_vector(instance, question_vocab, visual_features)\\n            target = make_target(label, annotation_vocab)\\n            \\n            log_probs = bow_model(bow_vec)        \\n            loss = loss_function(log_probs, target)\\n            current_loss += loss\\n            \\n            loss.backward()\\n            optimizer.step()\\n            \\n        losses.append(current_loss / len(train_text))\\n                \\n        print(\"The average loss of epoch \", iter, \" is: \", str(current_loss / len(train_text)))\\n        current_loss = 0\\n        \\n    return bow_model, losses\\n    \\n'"
      ]
     },
     "execution_count": 72,
     "metadata": {},
     "output_type": "execute_result"
    }
   ],
   "source": [
    "'''\n",
    "def train_model():\n",
    "    current_loss = 0\n",
    "    losses = []\n",
    "    \n",
    "    for iter in range(1, num_epochs+1):\n",
    "        print(\"Epoch\", iter, \"/\", num_epochs)\n",
    "        counter = 1\n",
    "        for (instance, label), image_features in zip(*shuffle_data(temp, train_images)):\n",
    "            if counter % 1000 == 0:\n",
    "                print(counter, \"/\", len(train_text))\n",
    "            counter += 1\n",
    "            bow_model.zero_grad()\n",
    "\n",
    "            visual_features = torch.from_numpy(image_features).cuda()\n",
    "            #bow_vec = torch.cat((instance, visual_features)).view(1,-1)\n",
    "            bow_vec = bow_image_vector(instance, question_vocab, visual_features)\n",
    "            target = make_target(label, annotation_vocab)\n",
    "            \n",
    "            log_probs = bow_model(bow_vec)        \n",
    "            loss = loss_function(log_probs, target)\n",
    "            current_loss += loss\n",
    "            \n",
    "            loss.backward()\n",
    "            optimizer.step()\n",
    "            \n",
    "        losses.append(current_loss / len(train_text))\n",
    "                \n",
    "        print(\"The average loss of epoch \", iter, \" is: \", str(current_loss / len(train_text)))\n",
    "        current_loss = 0\n",
    "        \n",
    "    return bow_model, losses\n",
    "    \n",
    "'''"
   ]
  },
  {
   "cell_type": "code",
   "execution_count": 74,
   "metadata": {
    "collapsed": true
   },
   "outputs": [],
   "source": [
    "bow_model = BoWClassifier(annotation_vocab_size, input_vector_size).to(device=device)\n",
    "num_epochs = 10\n",
    "learning_rate = 1e-3\n",
    "batch_size = 32\n",
    "loss_function = nn.NLLLoss()\n",
    "optimizer = optim.Adam(bow_model.parameters(), lr=learning_rate)"
   ]
  },
  {
   "cell_type": "code",
   "execution_count": 75,
   "metadata": {
    "scrolled": true
   },
   "outputs": [
    {
     "name": "stdout",
     "output_type": "stream",
     "text": [
      "0 tensor(787.7375, device='cuda:0', grad_fn=<ThAddBackward>)\n",
      "1 tensor(426.7748, device='cuda:0', grad_fn=<ThAddBackward>)\n",
      "2 tensor(259.7792, device='cuda:0', grad_fn=<ThAddBackward>)\n",
      "3 tensor(194.4196, device='cuda:0', grad_fn=<ThAddBackward>)\n",
      "4 tensor(159.2665, device='cuda:0', grad_fn=<ThAddBackward>)\n",
      "5 tensor(136.9492, device='cuda:0', grad_fn=<ThAddBackward>)\n",
      "6 tensor(120.8793, device='cuda:0', grad_fn=<ThAddBackward>)\n",
      "7 tensor(109.1952, device='cuda:0', grad_fn=<ThAddBackward>)\n",
      "8 tensor(99.5963, device='cuda:0', grad_fn=<ThAddBackward>)\n",
      "9 tensor(92.0075, device='cuda:0', grad_fn=<ThAddBackward>)\n"
     ]
    }
   ],
   "source": [
    "import time\n",
    "with torch.cuda.device(0):\n",
    "    #start = time.time()\n",
    "    trained_model = train(num_epochs, batch_size)   \n",
    "    #print(\"Time taken\", time.time()-start)"
   ]
  },
  {
   "cell_type": "code",
   "execution_count": 76,
   "metadata": {
    "collapsed": true
   },
   "outputs": [],
   "source": [
    "def calculate_accuracy(model, text, image_features):\n",
    "    with torch.no_grad():\n",
    "        counter = 0\n",
    "        i = 0\n",
    "        for (question, actual_answer), visual_features in zip(text, image_features):\n",
    "            visual_features = torch.from_numpy(visual_features).to(device=device)\n",
    "            #bow_vec = torch.cat((question, visual_features)).view(1,-1)\n",
    "            bow_vec = bow_image_vector(question, question_vocab, visual_features)\n",
    "            log_probs = model(bow_vec)\n",
    "            value, index = torch.max(log_probs, 1)\n",
    "            index = index.data[0]\n",
    "\n",
    "            predicted_answer = annotation_vocab_lookup[index]\n",
    "            #print(\"Question\", validation_text[i])\n",
    "            #print(\"Actual Answer\", actual_answer)\n",
    "            #print(\"Predicted Answer\", predicted_answer)\n",
    "\n",
    "            if predicted_answer == actual_answer:\n",
    "                counter += 1\n",
    "            i += 1\n",
    "        accuracy = (float(counter) / len(text)) * 100\n",
    "        return accuracy\n"
   ]
  },
  {
   "cell_type": "code",
   "execution_count": 77,
   "metadata": {
    "collapsed": true
   },
   "outputs": [],
   "source": [
    "#temp2 = convert_to_lstm_feature(test_text)\n",
    "#accuracy = calculate_accuracy(trained_model[0], test_text, test_images)\n",
    "#print(accuracy)"
   ]
  },
  {
   "cell_type": "code",
   "execution_count": 78,
   "metadata": {},
   "outputs": [
    {
     "name": "stdout",
     "output_type": "stream",
     "text": [
      "87.38237810094097\n",
      "24.414715719063544\n"
     ]
    }
   ],
   "source": [
    "train_accuracy = calculate_accuracy(trained_model, train_text, train_images)\n",
    "print(train_accuracy)\n",
    "validation_accuracy = calculate_accuracy(trained_model, validation_text, validation_images)\n",
    "print(validation_accuracy)"
   ]
  },
  {
   "cell_type": "code",
   "execution_count": null,
   "metadata": {
    "collapsed": true
   },
   "outputs": [],
   "source": []
  }
 ],
 "metadata": {
  "kernelspec": {
   "display_name": "Python 3",
   "language": "python",
   "name": "python3"
  },
  "language_info": {
   "codemirror_mode": {
    "name": "ipython",
    "version": 3
   },
   "file_extension": ".py",
   "mimetype": "text/x-python",
   "name": "python",
   "nbconvert_exporter": "python",
   "pygments_lexer": "ipython3",
   "version": "3.6.2"
  }
 },
 "nbformat": 4,
 "nbformat_minor": 2
}
