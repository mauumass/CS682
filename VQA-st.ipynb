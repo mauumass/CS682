{
 "cells": [
  {
   "cell_type": "code",
   "execution_count": 1,
   "metadata": {
    "scrolled": false
   },
   "outputs": [],
   "source": [
    "import h5py\n",
    "import json\n",
    "import numpy as np"
   ]
  },
  {
   "cell_type": "code",
   "execution_count": 2,
   "metadata": {},
   "outputs": [],
   "source": [
    "data = 'data/'\n",
    "img_feat = data + 'VQA_image_features.h5'\n",
    "img_ids = data + 'image_ids_vqa.json'\n",
    "map_features_to_id = data + 'VQA_img_features2id.json'\n",
    "img_info = data + 'imgid2imginfo.json'\n",
    "\n",
    "questions_train = data + 'vqa_questions_train.json'\n",
    "questions_validation = data + 'vqa_questions_valid.json'\n",
    "questions_test = data + 'vqa_questions_test.json'\n",
    "\n",
    "annotations_train = data + 'vqa_annotations_train.json'\n",
    "annotations_validation = data + 'vqa_annotations_valid.json'\n",
    "annotations_test = data + 'vqa_annotations_test.json'"
   ]
  },
  {
   "cell_type": "code",
   "execution_count": 3,
   "metadata": {},
   "outputs": [],
   "source": [
    "def read_images():\n",
    "    # load computed VQA image features from hdf5 file\n",
    "    image_features = np.asarray(h5py.File(img_feat, 'r')['img_features'])\n",
    "\n",
    "    # load IDs file\n",
    "    with open(img_ids, 'r') as file:\n",
    "        image_ids = json.load(file)['image_ids']\n",
    "\n",
    "    # load feature mapping file\n",
    "    with open(map_features_to_id, 'r') as file:\n",
    "        feature_mapping = json.load(file)['VQA_imgid2id']\n",
    "\n",
    "    # load info file\n",
    "    with open(img_info, 'r') as file:\n",
    "        image_info = json.load(file)\n",
    "\n",
    "    return image_ids, image_features, feature_mapping, image_info"
   ]
  },
  {
   "cell_type": "code",
   "execution_count": 4,
   "metadata": {},
   "outputs": [],
   "source": [
    "def read_text():\n",
    "    with open(questions_train, 'r') as file:\n",
    "        q_train = [[x['question'], x['image_id']] for x in json.load(file)['questions']]\n",
    "    with open(questions_validation, 'r') as file:\n",
    "        q_validation = [[x['question'], x['image_id']] for x in json.load(file)['questions']]\n",
    "    with open(questions_test, 'r') as file:\n",
    "        q_test = [[x['question'], x['image_id']] for x in json.load(file)['questions']]\n",
    "        \n",
    "    with open(annotations_train, 'r') as file:\n",
    "        a_train = [x['multiple_choice_answer'] for x in json.load(file)['annotations']]\n",
    "    with open(annotations_validation, 'r') as file:\n",
    "        a_validation = [x['multiple_choice_answer'] for x in json.load(file)['annotations']]\n",
    "    with open(annotations_test, 'r') as file:\n",
    "        a_test = [x['multiple_choice_answer']  for x in json.load(file)['annotations']]\n",
    "    \n",
    "    return q_train, q_validation, q_test, a_train, a_validation, a_test"
   ]
  },
  {
   "cell_type": "code",
   "execution_count": 5,
   "metadata": {},
   "outputs": [],
   "source": [
    "## Display image from URL\n",
    "\n",
    "import os\n",
    "from PIL import Image\n",
    "from urllib import request\n",
    "\n",
    "def show_image(imgid2info, id):\n",
    "    img_name = 'temp-image.jpg'\n",
    "    request.urlretrieve(imgid2info[str(id)]['flickr_url'], img_name)\n",
    "\n",
    "    img = Image.open(img_name)\n",
    "    img.show()\n",
    "\n",
    "    os.remove(img_name)\n",
    "    img.close()\n",
    "    \n",
    "#show_image(image_info, 111756)"
   ]
  },
  {
   "cell_type": "code",
   "execution_count": 6,
   "metadata": {},
   "outputs": [
    {
     "name": "stdout",
     "output_type": "stream",
     "text": [
      "cuda\n"
     ]
    }
   ],
   "source": [
    "import torch\n",
    "import torch.autograd as autograd\n",
    "import torch.nn as nn\n",
    "import torch.nn.functional as F\n",
    "import torch.optim as optim\n",
    "import numpy as np\n",
    "import random\n",
    "\n",
    "USE_GPU = True\n",
    "\n",
    "if USE_GPU and torch.cuda.is_available():\n",
    "    device = torch.device('cuda')\n",
    "else:\n",
    "    device = torch.device('cpu')\n",
    "    \n",
    "print(device)"
   ]
  },
  {
   "cell_type": "code",
   "execution_count": 7,
   "metadata": {},
   "outputs": [],
   "source": [
    "def image_id_to_features(image_id):\n",
    "    feat = feature_mapping[str(image_id)]\n",
    "    return image_features[feat]"
   ]
  },
  {
   "cell_type": "code",
   "execution_count": 8,
   "metadata": {},
   "outputs": [],
   "source": [
    "q_train, q_validation, q_test, a_train, a_validation, a_test = read_text()"
   ]
  },
  {
   "cell_type": "code",
   "execution_count": 9,
   "metadata": {},
   "outputs": [],
   "source": [
    "image_ids, image_features, feature_mapping, image_info = read_images()"
   ]
  },
  {
   "cell_type": "code",
   "execution_count": 10,
   "metadata": {},
   "outputs": [],
   "source": [
    "train_len = int(len(q_train)) \n",
    "validation_len = int(len(q_validation))\n",
    "test_len =  int(len(q_test))"
   ]
  },
  {
   "cell_type": "code",
   "execution_count": 11,
   "metadata": {},
   "outputs": [],
   "source": [
    "import string\n",
    "\n",
    "def organize_data():\n",
    "    # determine train data\n",
    "    train_text = []\n",
    "    train_images = []\n",
    "    for i in range(train_len): \n",
    "        split_words = q_train[i][0].split()\n",
    "        lower_words = [w.lower() for w in split_words]\n",
    "        no_punct_words = [w.strip(string.punctuation) for w in lower_words]\n",
    "        \n",
    "        train_text.append((no_punct_words, a_train[i]))\n",
    "        train_images.append(image_id_to_features(q_train[i][1]))\n",
    "\n",
    "    # determine validation data\n",
    "    validation_text = []\n",
    "    validation_images = []\n",
    "    for i in range(validation_len): \n",
    "        split_words = q_validation[i][0].split()\n",
    "        lower_words = [w.lower() for w in split_words]\n",
    "        no_punct_words = [w.strip(string.punctuation) for w in lower_words]\n",
    "        \n",
    "        validation_text.append((no_punct_words, a_validation[i]))\n",
    "        validation_images.append(image_id_to_features(q_validation[i][1]))\n",
    "\n",
    "    # determine test data\n",
    "    test_text = []\n",
    "    test_images = []\n",
    "    for i in range(test_len): \n",
    "        split_words = q_test[i][0].split()\n",
    "        lower_words = [w.lower() for w in split_words]\n",
    "        no_punct_words = [w.strip(string.punctuation) for w in lower_words]\n",
    "        \n",
    "        test_text.append((no_punct_words, a_test[i]))\n",
    "        test_images.append(image_id_to_features(q_test[i][1]))\n",
    "        \n",
    "    return train_text, train_images, validation_text, validation_images, test_text, test_images"
   ]
  },
  {
   "cell_type": "code",
   "execution_count": 12,
   "metadata": {},
   "outputs": [],
   "source": [
    "def shuffle_data(text_features, visual_features):\n",
    "    combined = [(text, visual) for text, visual in zip(text_features, visual_features)]\n",
    "    random.shuffle(combined)\n",
    "    return [text for (text, _) in combined], [visual for (_, visual) in combined]"
   ]
  },
  {
   "cell_type": "code",
   "execution_count": 13,
   "metadata": {},
   "outputs": [],
   "source": [
    "def vocabulary():\n",
    "    question_vocab = {}\n",
    "    annotation_vocab = {}\n",
    "    annotation_vocab_lookup = []\n",
    "    for question, answer in train_text:\n",
    "        for word in question:\n",
    "            if word not in question_vocab:\n",
    "                question_vocab[word] = len(question_vocab)\n",
    "        if answer not in annotation_vocab:\n",
    "            annotation_vocab[answer] = len(annotation_vocab)\n",
    "            annotation_vocab_lookup.append(answer)\n",
    "    return question_vocab, annotation_vocab, annotation_vocab_lookup"
   ]
  },
  {
   "cell_type": "code",
   "execution_count": 14,
   "metadata": {},
   "outputs": [],
   "source": [
    "from collections import defaultdict\n",
    "import operator\n",
    "\n",
    "def select_frequent_answers(train_text, train_images, maxAnswers):   \n",
    "    answer_fq= defaultdict(int)\n",
    "    for question, answer in train_text:\n",
    "        answer_fq[answer] += 1\n",
    "    sorted_fq = sorted(answer_fq.items(), key=operator.itemgetter(1), reverse=True)[0:maxAnswers]\n",
    "    top_answers, top_fq = zip(*sorted_fq)\n",
    "    new_train_text=[]\n",
    "    new_train_images=[]\n",
    "    \n",
    "    for (ques, ans), img in zip(train_text, train_images):\n",
    "        if ans in top_answers:\n",
    "            new_train_text.append((ques, ans))\n",
    "            new_train_images.append(img)\n",
    "\n",
    "    return new_train_text, new_train_images"
   ]
  },
  {
   "cell_type": "code",
   "execution_count": 15,
   "metadata": {},
   "outputs": [
    {
     "name": "stdout",
     "output_type": "stream",
     "text": [
      "43502\n",
      "1000\n"
     ]
    }
   ],
   "source": [
    "og_train_text, og_train_images, validation_text, validation_images, test_text, test_images = organize_data()\n",
    "train_text, train_images = select_frequent_answers(og_train_text, og_train_images, 1000)\n",
    "question_vocab, annotation_vocab, annotation_vocab_lookup = vocabulary()\n",
    "\n",
    "n_questions = len(train_text)\n",
    "annotation_vocab_size = len(annotation_vocab)\n",
    "image_feature_length = len(train_images[0])\n",
    "input_vector_size = image_feature_length+2400\n",
    "print(n_questions)\n",
    "print(annotation_vocab_size)"
   ]
  },
  {
   "cell_type": "code",
   "execution_count": 16,
   "metadata": {},
   "outputs": [],
   "source": [
    "class BoWClassifier(nn.Module):  # inheriting from nn.Module!\n",
    "\n",
    "    def __init__(self, num_labels, vocab_size):\n",
    "        # calls the init function of nn.Module.  Dont get confused by syntax,\n",
    "        # just always do it in an nn.Module\n",
    "        super(BoWClassifier, self).__init__()\n",
    "\n",
    "        # Define the parameters that you will need.  In this case, we need A and b,\n",
    "        # the parameters of the affine mapping.\n",
    "        # Torch defines nn.Linear(), which provides the affine map.\n",
    "        # Make sure you understand why the input dimension is vocab_size\n",
    "        # and the output is num_labels!\n",
    "        self.linear = nn.Linear(vocab_size, num_labels)\n",
    "\n",
    "        # NOTE! The non-linearity log softmax does not have parameters! So we don't need\n",
    "        # to worry about that here\n",
    "\n",
    "    def forward(self, bow_vec):\n",
    "        # Pass the input through the linear layer,\n",
    "        # then pass that through log_softmax.\n",
    "        # Many non-linearities and other functions are in torch.nn.functional\n",
    "        return F.log_softmax(self.linear(bow_vec), dim=1)"
   ]
  },
  {
   "cell_type": "code",
   "execution_count": 17,
   "metadata": {
    "scrolled": true
   },
   "outputs": [
    {
     "name": "stdout",
     "output_type": "stream",
     "text": [
      "Warning: 285/930911 words are not in dictionary, thus set UNK\n"
     ]
    },
    {
     "name": "stderr",
     "output_type": "stream",
     "text": [
      "/opt/anaconda3/lib/python3.7/site-packages/torch/nn/modules/rnn.py:38: UserWarning: dropout option adds dropout after all but last recurrent layer, so non-zero dropout expects num_layers greater than 1, but got dropout=0.25 and num_layers=1\n",
      "  \"num_layers={}\".format(dropout, num_layers))\n"
     ]
    }
   ],
   "source": [
    "import torch\n",
    "from torch.autograd import Variable\n",
    "import sys\n",
    "sys.path.append('/home/mau_engr/skip-thoughts.torch/pytorch')\n",
    "from skipthoughts import UniSkip\n",
    "\n",
    "dir_st = '/home/mau_engr/skip-thoughts.torch/theano/skip-thoughts'\n",
    "\n",
    "def get_st_inputs(text):\n",
    "    q_idxs = []\n",
    "    q_lens = []\n",
    "    for question, answer in text:\n",
    "        sent = []\n",
    "        l = 0\n",
    "        for word in question:\n",
    "            if l < 8:\n",
    "                try:\n",
    "                    sent.append(question_vocab[word])\n",
    "                    l +=1\n",
    "                except KeyError:\n",
    "                    pass\n",
    "        while len(sent) < 8:\n",
    "            sent.append(0)\n",
    "        q_idxs.append(sent)\n",
    "        q_lens.append(l)\n",
    "    return q_idxs, q_lens\n",
    "\n",
    "uniskip = UniSkip(dir_st, list(question_vocab.keys())).to(device=device)\n",
    "\n",
    "qvalid_idxs, qvalid_lens = get_st_inputs(validation_text)\n",
    "qvalid_features = uniskip(torch.cuda.LongTensor(qvalid_idxs).detach_(), lengths=qvalid_lens).detach()\n",
    "\n",
    "qtest_idxs, qtest_lens = get_st_inputs(test_text)\n",
    "qtest_features = uniskip(torch.cuda.LongTensor(qtest_idxs).detach_(), lengths=qtest_lens).detach()"
   ]
  },
  {
   "cell_type": "code",
   "execution_count": 18,
   "metadata": {},
   "outputs": [
    {
     "name": "stdout",
     "output_type": "stream",
     "text": [
      "torch.Size([43502, 2400])\n"
     ]
    }
   ],
   "source": [
    "qtrain_idxs, qtrain_lens = get_st_inputs(train_text[0:10000])\n",
    "qtrain_features_1 = uniskip(torch.cuda.LongTensor(qtrain_idxs), lengths=qtrain_lens).detach()\n",
    "\n",
    "qtrain_idxs, qtrain_lens = get_st_inputs(train_text[10000:20000])\n",
    "qtrain_features_2 = uniskip(torch.cuda.LongTensor(qtrain_idxs), lengths=qtrain_lens).detach()\n",
    "\n",
    "qtrain_idxs, qtrain_lens = get_st_inputs(train_text[20000:30000])\n",
    "qtrain_features_3 = uniskip(torch.cuda.LongTensor(qtrain_idxs), lengths=qtrain_lens).detach()\n",
    "\n",
    "qtrain_idxs, qtrain_lens = get_st_inputs(train_text[30000:40000])\n",
    "qtrain_features_4 = uniskip(torch.cuda.LongTensor(qtrain_idxs), lengths=qtrain_lens).detach()\n",
    "\n",
    "qtrain_idxs, qtrain_lens = get_st_inputs(train_text[40000:43502])\n",
    "qtrain_features_5 = uniskip(torch.cuda.LongTensor(qtrain_idxs), lengths=qtrain_lens).detach()\n",
    "\n",
    "qtrain_features = torch.cat((qtrain_features_1,qtrain_features_2,qtrain_features_3,qtrain_features_4, qtrain_features_5))\n",
    "print(qtrain_features.shape)"
   ]
  },
  {
   "cell_type": "code",
   "execution_count": 19,
   "metadata": {},
   "outputs": [],
   "source": [
    "input_vector_size = image_feature_length+2400\n",
    "\n",
    "def featureize(text, features):\n",
    "    features_text = []\n",
    "    for i in range(len(text)):\n",
    "        _, answer = text[i]\n",
    "        f = features[i]\n",
    "        features_text.append((f, answer))\n",
    "    return features_text    \n",
    "        \n",
    "train_text = featureize(train_text, qtrain_features)\n",
    "validation_text = featureize(validation_text, qvalid_features)\n",
    "test_text = featureize(test_text, qtest_features)"
   ]
  },
  {
   "cell_type": "code",
   "execution_count": 20,
   "metadata": {},
   "outputs": [],
   "source": [
    "def make_target(label, annotation_vocab):\n",
    "    return torch.LongTensor([annotation_vocab[label]]).to(device=device)"
   ]
  },
  {
   "cell_type": "code",
   "execution_count": 21,
   "metadata": {},
   "outputs": [],
   "source": [
    "def train(model, num_epochs, batch_size):\n",
    "    s = True\n",
    "    for ep in range(num_epochs):\n",
    "        ep_loss = 0\n",
    "        \n",
    "        for start in range(0, len(train_text), batch_size):\n",
    "            text_batch = train_text[start:start+batch_size]\n",
    "            image_batch = train_images[start:start+batch_size]\n",
    "            in_mat = torch.zeros(batch_size, input_vector_size, device=device)\n",
    "            out_vec = torch.zeros(batch_size, dtype=torch.long, device=device)\n",
    "                \n",
    "            for i, ((instance, label), image_features) in enumerate(zip(*shuffle_data(text_batch, image_batch))):\n",
    "                text_features = instance.to(device=device)\n",
    "                visual_features = torch.from_numpy(image_features).to(device=device)\n",
    "                infersent_vec = torch.cat((text_features, visual_features)).view(1,-1)\n",
    "                target = make_target(label, annotation_vocab)\n",
    "                \n",
    "                in_mat[i] = infersent_vec\n",
    "                out_vec[i] = target\n",
    "            \n",
    "            log_probs = model(in_mat) \n",
    "\n",
    "            batch_loss = loss_function(log_probs, out_vec)\n",
    "            ep_loss += batch_loss\n",
    "            \n",
    "            optimizer.zero_grad()\n",
    "            batch_loss.backward()\n",
    "            optimizer.step()\n",
    "        \n",
    "    return model"
   ]
  },
  {
   "cell_type": "code",
   "execution_count": 22,
   "metadata": {},
   "outputs": [],
   "source": [
    "def calculate_accuracy(model, text, image_features):\n",
    "    with torch.no_grad():\n",
    "        counter = 0\n",
    "        i = 0\n",
    "        for (question, actual_answer), visual_features in zip(text, image_features):\n",
    "            text_features = question.to(device=device)\n",
    "            visual_features = torch.from_numpy(visual_features).to(device=device)\n",
    "            infersent_vec = torch.cat((text_features, visual_features)).view(1,-1)\n",
    "            log_probs = model(infersent_vec)\n",
    "            value, index = torch.max(log_probs, 1)\n",
    "            index = index.data[0]\n",
    "\n",
    "            predicted_answer = annotation_vocab_lookup[index]\n",
    "\n",
    "            if predicted_answer == actual_answer:\n",
    "                counter += 1\n",
    "            i += 1\n",
    "        accuracy = (float(counter) / len(text)) * 100\n",
    "        return accuracy"
   ]
  },
  {
   "cell_type": "code",
   "execution_count": 26,
   "metadata": {
    "scrolled": true
   },
   "outputs": [
    {
     "name": "stdout",
     "output_type": "stream",
     "text": [
      "LR= 0.0001, BS= 32, epochs= 20\n",
      "64.22923083996139\n",
      "31.70324161746686\n",
      "LR= 0.0001, BS= 48, epochs= 20\n",
      "62.661486828191805\n",
      "31.92603319594519\n",
      "LR= 1e-05, BS= 32, epochs= 20\n",
      "36.12707461725898\n",
      "28.29453046674836\n",
      "LR= 1e-05, BS= 48, epochs= 20\n",
      "34.249000045974896\n",
      "27.860086888715607\n",
      "LR= 0.0001, BS= 32, epochs= 30\n",
      "66.98312721254194\n",
      "31.70324161746686\n",
      "LR= 0.0001, BS= 48, epochs= 30\n",
      "65.63836145464576\n",
      "31.658683301771195\n",
      "LR= 1e-05, BS= 32, epochs= 30\n",
      "40.078617075077005\n",
      "29.375069622368276\n",
      "LR= 1e-05, BS= 48, epochs= 30\n"
     ]
    },
    {
     "ename": "KeyboardInterrupt",
     "evalue": "",
     "output_type": "error",
     "traceback": [
      "\u001b[0;31m---------------------------------------------------------------------------\u001b[0m",
      "\u001b[0;31mKeyboardInterrupt\u001b[0m                         Traceback (most recent call last)",
      "\u001b[0;32m<ipython-input-26-27463b2e3955>\u001b[0m in \u001b[0;36m<module>\u001b[0;34m\u001b[0m\n\u001b[1;32m     14\u001b[0m                 \u001b[0mloss_function\u001b[0m \u001b[0;34m=\u001b[0m \u001b[0mnn\u001b[0m\u001b[0;34m.\u001b[0m\u001b[0mNLLLoss\u001b[0m\u001b[0;34m(\u001b[0m\u001b[0;34m)\u001b[0m\u001b[0;34m\u001b[0m\u001b[0m\n\u001b[1;32m     15\u001b[0m                 \u001b[0moptimizer\u001b[0m \u001b[0;34m=\u001b[0m \u001b[0moptim\u001b[0m\u001b[0;34m.\u001b[0m\u001b[0mAdam\u001b[0m\u001b[0;34m(\u001b[0m\u001b[0mmodel\u001b[0m\u001b[0;34m.\u001b[0m\u001b[0mparameters\u001b[0m\u001b[0;34m(\u001b[0m\u001b[0;34m)\u001b[0m\u001b[0;34m,\u001b[0m \u001b[0mlr\u001b[0m\u001b[0;34m=\u001b[0m\u001b[0mlr\u001b[0m\u001b[0;34m)\u001b[0m\u001b[0;34m\u001b[0m\u001b[0m\n\u001b[0;32m---> 16\u001b[0;31m                 \u001b[0mtrain_model\u001b[0m \u001b[0;34m=\u001b[0m \u001b[0mtrain\u001b[0m\u001b[0;34m(\u001b[0m\u001b[0mmodel\u001b[0m\u001b[0;34m,\u001b[0m \u001b[0mepoch\u001b[0m\u001b[0;34m,\u001b[0m \u001b[0mbs\u001b[0m\u001b[0;34m)\u001b[0m\u001b[0;34m\u001b[0m\u001b[0m\n\u001b[0m\u001b[1;32m     17\u001b[0m                 \u001b[0mtrain_accuracy\u001b[0m \u001b[0;34m=\u001b[0m \u001b[0mcalculate_accuracy\u001b[0m\u001b[0;34m(\u001b[0m\u001b[0mtrain_model\u001b[0m\u001b[0;34m,\u001b[0m \u001b[0mtrain_text\u001b[0m\u001b[0;34m,\u001b[0m \u001b[0mtrain_images\u001b[0m\u001b[0;34m)\u001b[0m\u001b[0;34m\u001b[0m\u001b[0m\n\u001b[1;32m     18\u001b[0m                 \u001b[0mprint\u001b[0m\u001b[0;34m(\u001b[0m\u001b[0mtrain_accuracy\u001b[0m\u001b[0;34m)\u001b[0m\u001b[0;34m\u001b[0m\u001b[0m\n",
      "\u001b[0;32m<ipython-input-21-b785bac4dcf4>\u001b[0m in \u001b[0;36mtrain\u001b[0;34m(model, num_epochs, batch_size)\u001b[0m\n\u001b[1;32m     16\u001b[0m                 \u001b[0mtarget\u001b[0m \u001b[0;34m=\u001b[0m \u001b[0mmake_target\u001b[0m\u001b[0;34m(\u001b[0m\u001b[0mlabel\u001b[0m\u001b[0;34m,\u001b[0m \u001b[0mannotation_vocab\u001b[0m\u001b[0;34m)\u001b[0m\u001b[0;34m\u001b[0m\u001b[0m\n\u001b[1;32m     17\u001b[0m \u001b[0;34m\u001b[0m\u001b[0m\n\u001b[0;32m---> 18\u001b[0;31m                 \u001b[0min_mat\u001b[0m\u001b[0;34m[\u001b[0m\u001b[0mi\u001b[0m\u001b[0;34m]\u001b[0m \u001b[0;34m=\u001b[0m \u001b[0minfersent_vec\u001b[0m\u001b[0;34m\u001b[0m\u001b[0m\n\u001b[0m\u001b[1;32m     19\u001b[0m                 \u001b[0mout_vec\u001b[0m\u001b[0;34m[\u001b[0m\u001b[0mi\u001b[0m\u001b[0;34m]\u001b[0m \u001b[0;34m=\u001b[0m \u001b[0mtarget\u001b[0m\u001b[0;34m\u001b[0m\u001b[0m\n\u001b[1;32m     20\u001b[0m \u001b[0;34m\u001b[0m\u001b[0m\n",
      "\u001b[0;31mKeyboardInterrupt\u001b[0m: "
     ]
    }
   ],
   "source": [
    "epochs = [20, 30]\n",
    "learning_rates = [1e-4, 1e-5]\n",
    "batch_sizes = [32,48]\n",
    "best = 0\n",
    "best_values = 0\n",
    "best_model = 0\n",
    "\n",
    "with torch.cuda.device(0):\n",
    "    for epoch in epochs:\n",
    "        for lr in learning_rates:\n",
    "            for bs in batch_sizes:\n",
    "                print('LR= ' + str(lr) + ', BS= ' + str(bs) + ', epochs= ' + str(epoch))\n",
    "                model = BoWClassifier(annotation_vocab_size, input_vector_size).to(device=device)\n",
    "                loss_function = nn.NLLLoss()\n",
    "                optimizer = optim.Adam(model.parameters(), lr=lr)\n",
    "                train_model = train(model, epoch, bs)  \n",
    "                train_accuracy = calculate_accuracy(train_model, train_text, train_images)\n",
    "                print(train_accuracy)\n",
    "                validation_accuracy = calculate_accuracy(train_model, validation_text, validation_images)\n",
    "                print(validation_accuracy)\n",
    "                \n",
    "                if validation_accuracy > best:\n",
    "                    best = validation_accuracy\n",
    "                    best_values = (epoch,lr,bs)\n",
    "                    best_model = train_model"
   ]
  },
  {
   "cell_type": "code",
   "execution_count": 27,
   "metadata": {},
   "outputs": [
    {
     "name": "stdout",
     "output_type": "stream",
     "text": [
      "33.592167454422686\n"
     ]
    }
   ],
   "source": [
    "print(calculate_accuracy(best_model, test_text, test_images))"
   ]
  },
  {
   "cell_type": "code",
   "execution_count": null,
   "metadata": {},
   "outputs": [],
   "source": []
  }
 ],
 "metadata": {
  "kernelspec": {
   "display_name": "Python 3",
   "language": "python",
   "name": "python3"
  },
  "language_info": {
   "codemirror_mode": {
    "name": "ipython",
    "version": 3
   },
   "file_extension": ".py",
   "mimetype": "text/x-python",
   "name": "python",
   "nbconvert_exporter": "python",
   "pygments_lexer": "ipython3",
   "version": "3.7.0"
  }
 },
 "nbformat": 4,
 "nbformat_minor": 2
}
