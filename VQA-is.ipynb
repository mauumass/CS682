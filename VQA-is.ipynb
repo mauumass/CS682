{
 "cells": [
  {
   "cell_type": "code",
   "execution_count": 1,
   "metadata": {
    "scrolled": false
   },
   "outputs": [],
   "source": [
    "import h5py\n",
    "import json\n",
    "import numpy as np"
   ]
  },
  {
   "cell_type": "code",
   "execution_count": 2,
   "metadata": {},
   "outputs": [],
   "source": [
    "data = 'data/'\n",
    "img_feat = data + 'VQA_image_features.h5'\n",
    "img_ids = data + 'image_ids_vqa.json'\n",
    "map_features_to_id = data + 'VQA_img_features2id.json'\n",
    "img_info = data + 'imgid2imginfo.json'\n",
    "\n",
    "questions_train = data + 'vqa_questions_train.json'\n",
    "questions_validation = data + 'vqa_questions_valid.json'\n",
    "questions_test = data + 'vqa_questions_test.json'\n",
    "\n",
    "annotations_train = data + 'vqa_annotations_train.json'\n",
    "annotations_validation = data + 'vqa_annotations_valid.json'\n",
    "annotations_test = data + 'vqa_annotations_test.json'"
   ]
  },
  {
   "cell_type": "code",
   "execution_count": 3,
   "metadata": {},
   "outputs": [],
   "source": [
    "def read_images():\n",
    "    # load computed VQA image features from hdf5 file\n",
    "    image_features = np.asarray(h5py.File(img_feat, 'r')['img_features'])\n",
    "\n",
    "    # load IDs file\n",
    "    with open(img_ids, 'r') as file:\n",
    "        image_ids = json.load(file)['image_ids']\n",
    "\n",
    "    # load feature mapping file\n",
    "    with open(map_features_to_id, 'r') as file:\n",
    "        feature_mapping = json.load(file)['VQA_imgid2id']\n",
    "\n",
    "    # load info file\n",
    "    with open(img_info, 'r') as file:\n",
    "        image_info = json.load(file)\n",
    "\n",
    "    return image_ids, image_features, feature_mapping, image_info"
   ]
  },
  {
   "cell_type": "code",
   "execution_count": 4,
   "metadata": {},
   "outputs": [],
   "source": [
    "def read_text():\n",
    "    with open(questions_train, 'r') as file:\n",
    "        q_train = [[x['question'], x['image_id']] for x in json.load(file)['questions']]\n",
    "    with open(questions_validation, 'r') as file:\n",
    "        q_validation = [[x['question'], x['image_id']] for x in json.load(file)['questions']]\n",
    "    with open(questions_test, 'r') as file:\n",
    "        q_test = [[x['question'], x['image_id']] for x in json.load(file)['questions']]\n",
    "        \n",
    "    with open(annotations_train, 'r') as file:\n",
    "        a_train = [x['multiple_choice_answer'] for x in json.load(file)['annotations']]\n",
    "    with open(annotations_validation, 'r') as file:\n",
    "        a_validation = [x['multiple_choice_answer'] for x in json.load(file)['annotations']]\n",
    "    with open(annotations_test, 'r') as file:\n",
    "        a_test = [x['multiple_choice_answer']  for x in json.load(file)['annotations']]\n",
    "    \n",
    "    return q_train, q_validation, q_test, a_train, a_validation, a_test"
   ]
  },
  {
   "cell_type": "code",
   "execution_count": 13,
   "metadata": {},
   "outputs": [],
   "source": [
    "## Display image from URL\n",
    "\n",
    "import os\n",
    "from PIL import Image\n",
    "from urllib import request\n",
    "\n",
    "def show_image(imgid2info, id):\n",
    "    img_name = 'temp-image.jpg'\n",
    "    request.urlretrieve(imgid2info[str(id)]['flickr_url'], img_name)\n",
    "\n",
    "    img = Image.open(img_name)\n",
    "    img.show()\n",
    "\n",
    "    os.remove(img_name)\n",
    "    img.close()\n",
    "    \n",
    "#show_image(image_info, 111756)"
   ]
  },
  {
   "cell_type": "code",
   "execution_count": 14,
   "metadata": {},
   "outputs": [
    {
     "name": "stdout",
     "output_type": "stream",
     "text": [
      "cuda\n"
     ]
    }
   ],
   "source": [
    "import torch\n",
    "import torch.autograd as autograd\n",
    "import torch.nn as nn\n",
    "import torch.nn.functional as F\n",
    "import torch.optim as optim\n",
    "import numpy as np\n",
    "import random\n",
    "\n",
    "USE_GPU = True\n",
    "\n",
    "if USE_GPU and torch.cuda.is_available():\n",
    "    device = torch.device('cuda')\n",
    "else:\n",
    "    device = torch.device('cpu')\n",
    "    \n",
    "print(device)"
   ]
  },
  {
   "cell_type": "code",
   "execution_count": 15,
   "metadata": {},
   "outputs": [],
   "source": [
    "def image_id_to_features(image_id):\n",
    "    feat = feature_mapping[str(image_id)]\n",
    "    return image_features[feat]"
   ]
  },
  {
   "cell_type": "code",
   "execution_count": 16,
   "metadata": {},
   "outputs": [],
   "source": [
    "q_train, q_validation, q_test, a_train, a_validation, a_test = read_text()"
   ]
  },
  {
   "cell_type": "code",
   "execution_count": 17,
   "metadata": {},
   "outputs": [],
   "source": [
    "image_ids, image_features, feature_mapping, image_info = read_images()"
   ]
  },
  {
   "cell_type": "code",
   "execution_count": 18,
   "metadata": {},
   "outputs": [],
   "source": [
    "## TO DO \n",
    "# Increase size of datasets\n",
    "\n",
    "train_len = int(len(q_train)) \n",
    "validation_len = int(len(q_validation))\n",
    "test_len =  int(len(q_test))"
   ]
  },
  {
   "cell_type": "code",
   "execution_count": 19,
   "metadata": {},
   "outputs": [],
   "source": [
    "import sys\n",
    "import torch\n",
    "sys.path.append('/home/mau_engr/InferSent/')\n",
    "\n",
    "from models import InferSent\n",
    "V = 1\n",
    "MODEL_PATH = '/home/mau_engr/InferSent/encoder/infersent%s.pkl' % V\n",
    "params_model = {'bsize': 64, 'word_emb_dim': 300, 'enc_lstm_dim': 2048,\n",
    "                'pool_type': 'max', 'dpout_model': 0.0, 'version': V}\n",
    "infersent = InferSent(params_model)\n",
    "infersent.load_state_dict(torch.load(MODEL_PATH))\n",
    "\n",
    "W2V_PATH = '/home/mau_engr/InferSent/dataset/GloVe/glove.840B.300d.txt'\n",
    "infersent.set_w2v_path(W2V_PATH)\n"
   ]
  },
  {
   "cell_type": "code",
   "execution_count": 20,
   "metadata": {
    "scrolled": true
   },
   "outputs": [
    {
     "name": "stdout",
     "output_type": "stream",
     "text": [
      "Found 7190(/7235) words with w2v vectors\n",
      "Vocab size : 7190\n"
     ]
    }
   ],
   "source": [
    "qtrain_sents = [i[0].lower() for i in q_train]\n",
    "qvalid_sents = [i[0].lower() for i in q_validation]\n",
    "qtest_sents = [i[0].lower() for i in q_test]\n",
    "total_vocab = qtrain_sents+qtest_sents+qvalid_sents\n",
    "\n",
    "length = infersent.build_vocab(total_vocab)\n",
    "\n",
    "qtrain_embeddings = infersent.encode(qtrain_sents, tokenize=True)\n",
    "qvalid_embeddings = infersent.encode(qvalid_sents, tokenize=True)\n",
    "qtest_embeddings = infersent.encode(qtest_sents, tokenize=True)"
   ]
  },
  {
   "cell_type": "code",
   "execution_count": 21,
   "metadata": {},
   "outputs": [],
   "source": [
    "import string\n",
    "import nltk\n",
    "from nltk.corpus import stopwords\n",
    "\n",
    "sw = set(stopwords.words('english'))\n",
    "\n",
    "def organize_data():\n",
    "    # determine train data\n",
    "    train_text = []\n",
    "    train_images = []\n",
    "    for i in range(train_len):        \n",
    "        train_text.append((qtrain_embeddings[i], a_train[i]))\n",
    "        train_images.append(image_id_to_features(q_train[i][1]))\n",
    "\n",
    "    # determine validation data\n",
    "    validation_text = []\n",
    "    validation_images = []\n",
    "    for i in range(validation_len): \n",
    "        validation_text.append((qvalid_embeddings[i], a_validation[i]))\n",
    "        validation_images.append(image_id_to_features(q_validation[i][1]))\n",
    "\n",
    "    # determine test data\n",
    "    test_text = []\n",
    "    test_images = []\n",
    "    for i in range(test_len): \n",
    "        test_text.append((qtest_embeddings[i], a_test[i]))\n",
    "        test_images.append(image_id_to_features(q_test[i][1]))\n",
    "        \n",
    "    return train_text, train_images, validation_text, validation_images, test_text, test_images"
   ]
  },
  {
   "cell_type": "code",
   "execution_count": 22,
   "metadata": {},
   "outputs": [],
   "source": [
    "def shuffle_data(text_features, visual_features):\n",
    "    combined = [(text, visual) for text, visual in zip(text_features, visual_features)]\n",
    "    random.shuffle(combined)\n",
    "    return [text for (text, _) in combined], [visual for (_, visual) in combined]"
   ]
  },
  {
   "cell_type": "code",
   "execution_count": 23,
   "metadata": {},
   "outputs": [],
   "source": [
    "def vocabulary():\n",
    "    annotation_vocab = {}\n",
    "    annotation_vocab_lookup = []\n",
    "    for question, answer in train_text:\n",
    "        if answer not in annotation_vocab:\n",
    "            annotation_vocab[answer] = len(annotation_vocab)\n",
    "            annotation_vocab_lookup.append(answer)\n",
    "    return annotation_vocab, annotation_vocab_lookup"
   ]
  },
  {
   "cell_type": "code",
   "execution_count": 24,
   "metadata": {},
   "outputs": [],
   "source": [
    "from collections import defaultdict\n",
    "import operator\n",
    "\n",
    "def select_frequent_answers(train_text, train_images, maxAnswers):   \n",
    "    answer_fq= defaultdict(int)\n",
    "    for question, answer in train_text:\n",
    "        answer_fq[answer] += 1\n",
    "    sorted_fq = sorted(answer_fq.items(), key=operator.itemgetter(1), reverse=True)[0:maxAnswers]\n",
    "    top_answers, top_fq = zip(*sorted_fq)\n",
    "    new_train_text=[]\n",
    "    new_train_images=[]\n",
    "    \n",
    "    for (ques, ans), img in zip(train_text, train_images):\n",
    "        if ans in top_answers:\n",
    "            new_train_text.append((ques, ans))\n",
    "            new_train_images.append(img)\n",
    "\n",
    "    return new_train_text, new_train_images"
   ]
  },
  {
   "cell_type": "code",
   "execution_count": 25,
   "metadata": {},
   "outputs": [
    {
     "name": "stdout",
     "output_type": "stream",
     "text": [
      "43502\n",
      "1000\n"
     ]
    }
   ],
   "source": [
    "train_text, train_images, validation_text, validation_images, test_text, test_images = organize_data()\n",
    "train_text, train_images = select_frequent_answers(train_text, train_images, 1000)\n",
    "annotation_vocab, annotation_vocab_lookup = vocabulary()\n",
    "\n",
    "n_questions = len(train_text)\n",
    "annotation_vocab_size = len(annotation_vocab)\n",
    "image_feature_length = len(train_images[0])\n",
    "input_vector_size = image_feature_length+4096\n",
    "print(n_questions)\n",
    "print(annotation_vocab_size)"
   ]
  },
  {
   "cell_type": "code",
   "execution_count": 26,
   "metadata": {},
   "outputs": [],
   "source": [
    "class BoWClassifier(nn.Module):  # inheriting from nn.Module!\n",
    "\n",
    "    def __init__(self, num_labels, vocab_size):\n",
    "        # calls the init function of nn.Module.  Dont get confused by syntax,\n",
    "        # just always do it in an nn.Module\n",
    "        super(BoWClassifier, self).__init__()\n",
    "\n",
    "        # Define the parameters that you will need.  In this case, we need A and b,\n",
    "        # the parameters of the affine mapping.\n",
    "        # Torch defines nn.Linear(), which provides the affine map.\n",
    "        # Make sure you understand why the input dimension is vocab_size\n",
    "        # and the output is num_labels!\n",
    "        self.linear1 = nn.Linear(vocab_size, 2048)\n",
    "        \n",
    "        self.linear2 = nn.Linear(2048, 1024)\n",
    "        \n",
    "        self.linear3 = nn.Linear(1024, num_labels)\n",
    "        \n",
    "        # NOTE! The non-linearity log softmax does not have parameters! So we don't need\n",
    "        # to worry about that here\n",
    "\n",
    "    def forward(self, bow_vec):\n",
    "        # Pass the input through the linear layer,\n",
    "        # then pass that through log_softmax.\n",
    "        # Many non-linearities and other functions are in torch.nn.functional\n",
    "        tanh1 = F.tanh(self.linear1(bow_vec))\n",
    "        drop1 = F.dropout(tanh1, p=0.5)\n",
    "        tanh2 = F.tanh(self.linear2(drop1))\n",
    "        drop2 = F.dropout(tanh2, p=0.5)\n",
    "        scores = F.log_softmax(self.linear3(drop2), dim=1)\n",
    "        \n",
    "        return scores"
   ]
  },
  {
   "cell_type": "code",
   "execution_count": 27,
   "metadata": {},
   "outputs": [],
   "source": [
    "def make_target(label, annotation_vocab):\n",
    "    return torch.LongTensor([annotation_vocab[label]]).to(device=device)"
   ]
  },
  {
   "cell_type": "code",
   "execution_count": 28,
   "metadata": {},
   "outputs": [],
   "source": [
    "def train(model, num_epochs, batch_size):\n",
    "    s = True\n",
    "    for ep in range(num_epochs):\n",
    "        ep_loss = 0\n",
    "        \n",
    "        for start in range(0, len(train_text), batch_size):\n",
    "            text_batch = train_text[start:start+batch_size]\n",
    "            image_batch = train_images[start:start+batch_size]\n",
    "            in_mat = torch.zeros(batch_size, input_vector_size, device=device)\n",
    "            out_vec = torch.zeros(batch_size, dtype=torch.long, device=device)\n",
    "                \n",
    "            for i, ((instance, label), image_features) in enumerate(zip(*shuffle_data(text_batch, image_batch))):\n",
    "                text_features = torch.from_numpy(instance).to(device=device)\n",
    "                visual_features = torch.from_numpy(image_features).to(device=device)\n",
    "                infersent_vec = torch.cat((text_features, visual_features)).view(1,-1)\n",
    "                target = make_target(label, annotation_vocab)\n",
    "                \n",
    "                in_mat[i] = infersent_vec\n",
    "                out_vec[i] = target\n",
    "            \n",
    "            log_probs = model(in_mat) \n",
    "\n",
    "            batch_loss = loss_function(log_probs, out_vec)\n",
    "            ep_loss += batch_loss\n",
    "            \n",
    "            optimizer.zero_grad()\n",
    "            batch_loss.backward()\n",
    "            optimizer.step()\n",
    "        \n",
    "    return model"
   ]
  },
  {
   "cell_type": "code",
   "execution_count": 29,
   "metadata": {},
   "outputs": [],
   "source": [
    "def calculate_accuracy(model, text, image_features):\n",
    "    with torch.no_grad():\n",
    "        counter = 0\n",
    "        i = 0\n",
    "        for (question, actual_answer), visual_features in zip(text, image_features):\n",
    "            text_features = torch.from_numpy(question).to(device=device)\n",
    "            visual_features = torch.from_numpy(visual_features).to(device=device)\n",
    "            infersent_vec = torch.cat((text_features, visual_features)).view(1,-1)\n",
    "            log_probs = model(infersent_vec)\n",
    "            value, index = torch.max(log_probs, 1)\n",
    "            index = index.data[0]\n",
    "\n",
    "            predicted_answer = annotation_vocab_lookup[index]\n",
    "            #print(\"Question\", validation_text[i])\n",
    "            #print(\"Actual Answer\", actual_answer)\n",
    "            #print(\"Predicted Answer\", predicted_answer)\n",
    "\n",
    "            if predicted_answer == actual_answer:\n",
    "                counter += 1\n",
    "            i += 1\n",
    "        accuracy = (float(counter) / len(text)) * 100\n",
    "        return accuracy\n",
    "    \n",
    "def calculate_type_accuracy(model, text, image_features):\n",
    "    with torch.no_grad():\n",
    "        counter = 0\n",
    "        yes_type = 0\n",
    "        number_type = 0\n",
    "        other_type = 0\n",
    "        \n",
    "        yes_right = 0\n",
    "        number_right = 0\n",
    "        other_right = 0\n",
    "        \n",
    "        i = 0\n",
    "        for (question, actual_answer), visual_features in zip(text, image_features):\n",
    "            text_features = torch.from_numpy(question).to(device=device)\n",
    "            visual_features = torch.from_numpy(visual_features).to(device=device)\n",
    "            infersent_vec = torch.cat((text_features, visual_features)).view(1,-1)\n",
    "            log_probs = model(infersent_vec)\n",
    "            value, index = torch.max(log_probs, 1)\n",
    "            index = index.data[0]\n",
    "\n",
    "            predicted_answer = annotation_vocab_lookup[index]\n",
    "            #print(\"Question\", validation_text[i])\n",
    "            #print(\"Actual Answer\", actual_answer)\n",
    "            #print(\"Predicted Answer\", predicted_answer)\n",
    "            \n",
    "            if actual_answer == 'yes' or actual_answer == 'no':\n",
    "                yes_type += 1\n",
    "                if predicted_answer == actual_answer:\n",
    "                    yes_right += 1\n",
    "            elif actual_answer.isdigit():\n",
    "                number_type += 1\n",
    "                if predicted_answer == actual_answer:\n",
    "                    number_right += 1\n",
    "            else:\n",
    "                other_type += 1\n",
    "                if predicted_answer == actual_answer:\n",
    "                    other_right += 1\n",
    "\n",
    "            if predicted_answer == actual_answer:\n",
    "                counter += 1\n",
    "            i += 1\n",
    "        accuracy = (float(counter) / len(text)) * 100\n",
    "        return accuracy, float(yes_right)/yes_type, float(number_right)/number_type, float(other_right)/other_type"
   ]
  },
  {
   "cell_type": "code",
   "execution_count": null,
   "metadata": {
    "scrolled": false
   },
   "outputs": [
    {
     "name": "stdout",
     "output_type": "stream",
     "text": [
      "LR= 0.0001, BS= 32, epochs= 20\n"
     ]
    },
    {
     "name": "stderr",
     "output_type": "stream",
     "text": [
      "/opt/anaconda3/lib/python3.7/site-packages/torch/nn/functional.py:995: UserWarning: nn.functional.tanh is deprecated. Use torch.tanh instead.\n",
      "  warnings.warn(\"nn.functional.tanh is deprecated. Use torch.tanh instead.\")\n"
     ]
    }
   ],
   "source": [
    "epochs = [20]\n",
    "learning_rates = [1e-4]\n",
    "batch_sizes = [32]\n",
    "best = 0\n",
    "best_values = 0\n",
    "best_model = 0\n",
    "\n",
    "with torch.cuda.device(0):\n",
    "    for epoch in epochs:\n",
    "        for lr in learning_rates:\n",
    "            for bs in batch_sizes:\n",
    "                print('LR= ' + str(lr) + ', BS= ' + str(bs) + ', epochs= ' + str(epoch))\n",
    "                model = BoWClassifier(annotation_vocab_size, input_vector_size).to(device=device)\n",
    "                loss_function = nn.NLLLoss()\n",
    "                optimizer = optim.Adam(model.parameters(), lr=lr)\n",
    "                train_model = train(model, epoch, bs)  \n",
    "                train_accuracy = calculate_accuracy(train_model, train_text, train_images)\n",
    "                print(train_accuracy)\n",
    "                validation_accuracy = calculate_accuracy(train_model, validation_text, validation_images)\n",
    "                print(validation_accuracy)\n",
    "                \n",
    "                if validation_accuracy > best:\n",
    "                    best = validation_accuracy\n",
    "                    best_values = (epoch,lr,bs)\n",
    "                    best_model = train_model"
   ]
  },
  {
   "cell_type": "code",
   "execution_count": null,
   "metadata": {
    "scrolled": false
   },
   "outputs": [],
   "source": [
    "print(calculate_type_accuracy(best_model, test_text, test_images))"
   ]
  }
 ],
 "metadata": {
  "kernelspec": {
   "display_name": "Python 3",
   "language": "python",
   "name": "python3"
  },
  "language_info": {
   "codemirror_mode": {
    "name": "ipython",
    "version": 3
   },
   "file_extension": ".py",
   "mimetype": "text/x-python",
   "name": "python",
   "nbconvert_exporter": "python",
   "pygments_lexer": "ipython3",
   "version": "3.7.0"
  }
 },
 "nbformat": 4,
 "nbformat_minor": 2
}
